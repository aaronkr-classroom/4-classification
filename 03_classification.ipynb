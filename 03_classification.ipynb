{
  "cells": [
    {
      "cell_type": "markdown",
      "metadata": {
        "id": "m3JcRDiRYIoz"
      },
      "source": [
        "**3장 – 분류**"
      ]
    },
    {
      "cell_type": "markdown",
      "metadata": {
        "id": "lP9f58e9YIo2"
      },
      "source": [
        "_이 노트북은 3장의 모든 샘플 코드와 연습 문제 정답을 담고 있습니다._"
      ]
    },
    {
      "cell_type": "markdown",
      "metadata": {
        "id": "wifVmy8IYIo2"
      },
      "source": [
        "<table align=\"left\">\n",
        "  <td>\n",
        "    <a href=\"https://colab.research.google.com/github/rickiepark/handson-ml3/blob/main/03_classification.ipynb\" target=\"_parent\"><img src=\"https://colab.research.google.com/assets/colab-badge.svg\" alt=\"Open In Colab\"/></a>\n",
        "  </td>\n",
        "</table>"
      ]
    },
    {
      "cell_type": "markdown",
      "metadata": {
        "id": "Ofy3ew3HYIo2"
      },
      "source": [
        "# 3.0 설정"
      ]
    },
    {
      "cell_type": "markdown",
      "metadata": {
        "id": "SChsGt-DYIo3"
      },
      "source": [
        "파이썬 3.7 또는 그 이상이 필요합니다:"
      ]
    },
    {
      "cell_type": "code",
      "execution_count": 1,
      "metadata": {
        "id": "n8giqpEsYIo3"
      },
      "outputs": [],
      "source": [
        "import sys\n",
        "\n",
        "assert sys.version_info >= (3, 7)"
      ]
    },
    {
      "cell_type": "markdown",
      "metadata": {
        "id": "JSrGuGtAYIo4"
      },
      "source": [
        "Scikit-Learn ≥1.0.1이 필요합니다:"
      ]
    },
    {
      "cell_type": "code",
      "execution_count": 2,
      "metadata": {
        "id": "DjCtPi1NYIo4"
      },
      "outputs": [],
      "source": [
        "from packaging import version\n",
        "import sklearn\n",
        "\n",
        "assert version.parse(sklearn.__version__) >= version.parse(\"1.0.1\")"
      ]
    },
    {
      "cell_type": "markdown",
      "metadata": {
        "id": "PLUteiNzYIo4"
      },
      "source": [
        "이전 장과 마찬가지로 그래프를 보기 좋게 그리기 위해 기본 폰트 크기를 설정합니다:"
      ]
    },
    {
      "cell_type": "code",
      "execution_count": 3,
      "metadata": {
        "id": "v6ixGzRuYIo5"
      },
      "outputs": [],
      "source": [
        "import matplotlib.pyplot as plt\n",
        "\n",
        "plt.rc('font', size=14)\n",
        "plt.rc('axes', labelsize=14, titlesize=14)\n",
        "plt.rc('legend', fontsize=14)\n",
        "plt.rc('xtick', labelsize=10)\n",
        "plt.rc('ytick', labelsize=10)"
      ]
    },
    {
      "cell_type": "markdown",
      "metadata": {
        "id": "6iFTC1RcYIo5"
      },
      "source": [
        "`images/classification` 폴더가 없다면 이 폴더를 만들고 고해상도 이미지 저장을 위해 노트북에서 사용할 `save_fig()` 함수를 정의합니다:"
      ]
    },
    {
      "cell_type": "code",
      "execution_count": 4,
      "metadata": {
        "id": "P08ieQMCYIo5"
      },
      "outputs": [],
      "source": [
        "from pathlib import Path\n",
        "\n",
        "IMAGES_PATH = Path() / \"images\"\n",
        "IMAGES_PATH.mkdir(parents=True, exist_ok=True)\n",
        "\n",
        "def save_fig(fig_id, tight_layout=True, fig_extension=\"png\", resolution=300):\n",
        "    path = IMAGES_PATH / f\"{fig_id}.{fig_extension}\"\n",
        "    if tight_layout:\n",
        "        plt.tight_layout()\n",
        "    plt.savefig(path, format=fig_extension, dpi=resolution)"
      ]
    },
    {
      "cell_type": "markdown",
      "metadata": {
        "id": "dsQHQesLYIo5"
      },
      "source": [
        "# 3.1 MNIST"
      ]
    },
    {
      "cell_type": "code",
      "execution_count": null,
      "metadata": {
        "colab": {
          "base_uri": "https://localhost:8080/"
        },
        "id": "y3Hk1Et1YIo5",
        "outputId": "19308716-df86-4fd9-80a0-e6cf305b61c1"
      },
      "outputs": [],
      "source": [
        "\n",
        "# 사이킷런 1.2에서 추가된 parser 매개변수 기본값이 1.4 버전에서 'liac-arff'에서 'auto'로 바뀝니다.\n",
        "# 'auto'일 경우 희소한 ARFF 포맷일 때는 'liac-arff', 그렇지 않을 때는 'pandas'가 됩니다.\n",
        "# 이에 대한 경고를 피하려면 parser='auto'로 지정하세요.\n"
      ]
    },
    {
      "cell_type": "code",
      "execution_count": null,
      "metadata": {
        "colab": {
          "base_uri": "https://localhost:8080/"
        },
        "id": "Y2XWAI3fYIo5",
        "outputId": "8a46a7aa-3c0d-4cd2-9e49-e18320556a01",
        "scrolled": true
      },
      "outputs": [],
      "source": [
        "# 추가 코드 - 조금 내용이 깁니다\n",
        "print(mnist.DESCR)"
      ]
    },
    {
      "cell_type": "code",
      "execution_count": null,
      "metadata": {
        "colab": {
          "base_uri": "https://localhost:8080/"
        },
        "id": "pPWdtpXXYIo6",
        "outputId": "ee9461c2-828d-4d80-e085-d556be568e32"
      },
      "outputs": [],
      "source": [
        "mnist.keys()  # 추가 코드 - 이 노트북에서는 data와 target만 사용합니다"
      ]
    },
    {
      "cell_type": "code",
      "execution_count": null,
      "metadata": {
        "colab": {
          "base_uri": "https://localhost:8080/"
        },
        "id": "iw5TcWn4YIo6",
        "outputId": "63c86a08-0676-4e76-ba44-3451e9794b6b"
      },
      "outputs": [],
      "source": [
        "X, y = #...\n",
        "X"
      ]
    },
    {
      "cell_type": "code",
      "execution_count": null,
      "metadata": {
        "colab": {
          "base_uri": "https://localhost:8080/"
        },
        "id": "m8r3jIo6YIo6",
        "outputId": "fea555f6-29b0-47b1-830f-7a04067306fe"
      },
      "outputs": [],
      "source": [
        "X.shape"
      ]
    },
    {
      "cell_type": "code",
      "execution_count": null,
      "metadata": {
        "colab": {
          "base_uri": "https://localhost:8080/"
        },
        "id": "64mc_ZAlYIo7",
        "outputId": "b77ae1f9-13b5-4cf4-ac2a-2bc83c692814"
      },
      "outputs": [],
      "source": [
        "y"
      ]
    },
    {
      "cell_type": "code",
      "execution_count": null,
      "metadata": {
        "colab": {
          "base_uri": "https://localhost:8080/"
        },
        "id": "XjaQ8W5GYIo7",
        "outputId": "fb1eb8b4-68a3-4780-9afa-95c8b81ece5e"
      },
      "outputs": [],
      "source": [
        "y.shape"
      ]
    },
    {
      "cell_type": "code",
      "execution_count": null,
      "metadata": {
        "colab": {
          "base_uri": "https://localhost:8080/"
        },
        "id": "sNomOJj1YIo7",
        "outputId": "93f6582c-5a85-4a38-a2ed-6b912e4f4fb5"
      },
      "outputs": [],
      "source": [
        "28 * 28"
      ]
    },
    {
      "cell_type": "code",
      "execution_count": null,
      "metadata": {
        "colab": {
          "base_uri": "https://localhost:8080/",
          "height": 475
        },
        "id": "cYsRflLqYIo7",
        "outputId": "61270036-1084-48e0-b1dd-7d1c5e5bc394"
      },
      "outputs": [],
      "source": [
        "import matplotlib.pyplot as plt\n",
        "\n",
        "def plot_digit(image_data):\n",
        "    image = image_data.reshape(28, 28)\n",
        "    plt.imshow(image, cmap=\"binary\")\n",
        "    plt.axis(\"off\")\n",
        "\n",
        "some_digit = X[0]\n",
        "plot_digit(some_digit)\n",
        "save_fig(\"some_digit_plot\")  # 추가 코드\n",
        "plt.show()"
      ]
    },
    {
      "cell_type": "code",
      "execution_count": null,
      "metadata": {
        "colab": {
          "base_uri": "https://localhost:8080/",
          "height": 36
        },
        "id": "GfZw689zYIo7",
        "outputId": "f24c2514-0e7a-48f9-a221-688b12137c4e"
      },
      "outputs": [],
      "source": [
        "y[0]"
      ]
    },
    {
      "cell_type": "code",
      "execution_count": null,
      "metadata": {
        "colab": {
          "base_uri": "https://localhost:8080/",
          "height": 729
        },
        "id": "oWue3ou1YIo8",
        "outputId": "c685e7c0-8ff7-4c73-d1d7-d878aa2db448"
      },
      "outputs": [],
      "source": [
        "# 추가 코드 – 그림 3–2를 생성하고 저장합니다\n",
        "plt.figure(figsize=(9, 9))\n",
        "for idx, image_data in enumerate(X[:100]):\n",
        "    plt.subplot(10, 10, idx + 1)\n",
        "    plot_digit(image_data)\n",
        "plt.subplots_adjust(wspace=0, hspace=0)\n",
        "save_fig(\"more_digits_plot\", tight_layout=False)\n",
        "plt.show()"
      ]
    },
    {
      "cell_type": "code",
      "execution_count": 16,
      "metadata": {
        "id": "mm4lJxbsYIo8"
      },
      "outputs": [],
      "source": [
        "X_train, X_test, y_train, y_test = #..."
      ]
    },
    {
      "cell_type": "markdown",
      "metadata": {
        "id": "9zxYeNyVYIo8"
      },
      "source": [
        "# 3.2 이진 분류기 훈련"
      ]
    },
    {
      "cell_type": "code",
      "execution_count": 17,
      "metadata": {
        "id": "UfFJBzBiYIo8"
      },
      "outputs": [],
      "source": [
        "# 5는 True고, 다른 숫자는 모두 False\n"
      ]
    },
    {
      "cell_type": "code",
      "execution_count": null,
      "metadata": {
        "colab": {
          "base_uri": "https://localhost:8080/",
          "height": 75
        },
        "id": "TUAVYXe9YIo8",
        "outputId": "7c1efb8b-df27-463d-9713-ee34aa68298b"
      },
      "outputs": [],
      "source": [
        "from sklearn.linear_model import SGDClassifier\n",
        "\n",
        "sgd_clf = SGDClassifier(random_state=42)\n",
        "sgd_clf.fit(X_train, y_train_5)"
      ]
    },
    {
      "cell_type": "code",
      "execution_count": null,
      "metadata": {
        "colab": {
          "base_uri": "https://localhost:8080/"
        },
        "id": "JnS_OLT-YIo9",
        "outputId": "9fb62157-a1e4-4835-d039-020f6a136b5a"
      },
      "outputs": [],
      "source": [
        "sgd_clf.predict([some_digit])"
      ]
    },
    {
      "cell_type": "markdown",
      "metadata": {
        "id": "xMkOMKXbYIo9"
      },
      "source": [
        "# 3.3 성능 측정"
      ]
    },
    {
      "cell_type": "markdown",
      "metadata": {
        "id": "VJZgj4VBYIo9"
      },
      "source": [
        "## 3.3.1 교차 검증을 사용한 정확도 측정"
      ]
    },
    {
      "cell_type": "code",
      "execution_count": null,
      "metadata": {
        "colab": {
          "base_uri": "https://localhost:8080/"
        },
        "id": "7wflRzpeYIo_",
        "outputId": "2843ec9d-cf8c-41b8-8cde-ab78138bd0db"
      },
      "outputs": [],
      "source": [
        "# cross_val_score\n"
      ]
    },
    {
      "cell_type": "code",
      "execution_count": null,
      "metadata": {
        "colab": {
          "base_uri": "https://localhost:8080/"
        },
        "id": "epG0_DQ5YIo_",
        "outputId": "9050f9f4-4948-4bcb-831b-173c75a0325e"
      },
      "outputs": [],
      "source": [
        "from sklearn.model_selection import StratifiedKFold\n",
        "from sklearn.base import clone\n",
        "\n",
        "skfolds = StratifiedKFold(n_splits=3)  # 데이터셋이 미리 섞여 있지 않다면\n",
        "                                       # shuffle=True를 추가하세요.\n",
        "for train_index, test_index in skfolds.split(X_train, y_train_5):\n",
        "    clone_clf = clone(sgd_clf)\n",
        "    X_train_folds = X_train[train_index]\n",
        "    y_train_folds = y_train_5[train_index]\n",
        "    X_test_fold = X_train[test_index]\n",
        "    y_test_fold = y_train_5[test_index]\n",
        "\n",
        "    clone_clf.fit(X_train_folds, y_train_folds)\n",
        "    y_pred = clone_clf.predict(X_test_fold)\n",
        "    n_correct = sum(y_pred == y_test_fold)\n",
        "    print(n_correct / len(y_pred))"
      ]
    },
    {
      "cell_type": "code",
      "execution_count": null,
      "metadata": {
        "colab": {
          "base_uri": "https://localhost:8080/"
        },
        "id": "NZGJkeqSYIo_",
        "outputId": "7f070ef9-d21b-4aa7-b91c-2267acc0a53e"
      },
      "outputs": [],
      "source": [
        "# DummyClassifier\n"
      ]
    },
    {
      "cell_type": "code",
      "execution_count": null,
      "metadata": {
        "colab": {
          "base_uri": "https://localhost:8080/"
        },
        "id": "yMp5KT5fYIo_",
        "outputId": "f410587f-6306-4bd3-8e9c-00bc86dfea3a"
      },
      "outputs": [],
      "source": [
        "# cross_val_score(...)"
      ]
    },
    {
      "cell_type": "markdown",
      "metadata": {
        "id": "F9SCK4k1YIo_"
      },
      "source": [
        "## 3.3.2 오차 행렬"
      ]
    },
    {
      "cell_type": "code",
      "execution_count": 24,
      "metadata": {
        "id": "6ZjCK42eYIpA"
      },
      "outputs": [],
      "source": [
        "# cross_val_predict\n"
      ]
    },
    {
      "cell_type": "code",
      "execution_count": null,
      "metadata": {
        "colab": {
          "base_uri": "https://localhost:8080/"
        },
        "id": "7bF3RDySYIpA",
        "outputId": "c977ee19-2018-48ef-b1de-1f57b17175f2"
      },
      "outputs": [],
      "source": [
        "# confusion_matrix\n"
      ]
    },
    {
      "cell_type": "code",
      "execution_count": null,
      "metadata": {
        "colab": {
          "base_uri": "https://localhost:8080/"
        },
        "id": "PW4g5KqPYIpA",
        "outputId": "13e9be2e-1292-4646-cc7b-74e29b2c52cc"
      },
      "outputs": [],
      "source": [
        "y_train_perfect_predictions = y_train_5  # 완벽한 분류기일 경우\n",
        "# confusion_matrix(...)"
      ]
    },
    {
      "cell_type": "markdown",
      "metadata": {
        "id": "droV9cXhYIpE"
      },
      "source": [
        "## 3.3.3 정밀도와 재현율"
      ]
    },
    {
      "cell_type": "code",
      "execution_count": null,
      "metadata": {
        "colab": {
          "base_uri": "https://localhost:8080/"
        },
        "id": "SNEQ0Cc8YIpE",
        "outputId": "fbe320b2-fc1f-4ff6-e9d7-847c39cd6791"
      },
      "outputs": [],
      "source": [
        "# precision_score, recall_score\n",
        "\n",
        "# precision_score\n",
        "# == 3530 / (687 + 3530)"
      ]
    },
    {
      "cell_type": "code",
      "execution_count": null,
      "metadata": {
        "colab": {
          "base_uri": "https://localhost:8080/"
        },
        "id": "hCwwBf0EYIpE",
        "outputId": "eda52bcc-f70c-4c77-e83a-dd3ec12314c1"
      },
      "outputs": [],
      "source": [
        "# 추가 코드 – TP / (FP + TP) 식으로 정밀도를 계산합니다\n",
        "cm[1, 1] / (cm[0, 1] + cm[1, 1])"
      ]
    },
    {
      "cell_type": "code",
      "execution_count": null,
      "metadata": {
        "colab": {
          "base_uri": "https://localhost:8080/"
        },
        "id": "yu2n_XpYYIpE",
        "outputId": "27e1263d-e9f1-4379-9ed3-8fe4ccf66839"
      },
      "outputs": [],
      "source": [
        "# recall_score\n",
        "# == 3530 / (1891 + 3530)"
      ]
    },
    {
      "cell_type": "code",
      "execution_count": null,
      "metadata": {
        "colab": {
          "base_uri": "https://localhost:8080/"
        },
        "id": "St_I3JU6YIpE",
        "outputId": "de6946c7-42c3-49fe-a6b0-d03067ae306c"
      },
      "outputs": [],
      "source": [
        "# 추가 코드 – TP / (FN + TP) 식으로 정밀도를 계산합니다\n",
        "cm[1, 1] / (cm[1, 0] + cm[1, 1])"
      ]
    },
    {
      "cell_type": "code",
      "execution_count": null,
      "metadata": {
        "colab": {
          "base_uri": "https://localhost:8080/"
        },
        "id": "HbiNWknYYIpF",
        "outputId": "bd66a4bd-a4db-4b20-b37a-0e2b56f49dbf"
      },
      "outputs": [],
      "source": [
        "# f1_score\n"
      ]
    },
    {
      "cell_type": "code",
      "execution_count": null,
      "metadata": {
        "colab": {
          "base_uri": "https://localhost:8080/"
        },
        "id": "INaozZlhYIpF",
        "outputId": "024b0e8b-f46e-4edf-fe2e-21cc9f33f86a"
      },
      "outputs": [],
      "source": [
        "# 추가 코드 – f1 점수를 계산합니다\n",
        "cm[1, 1] / (cm[1, 1] + (cm[1, 0] + cm[0, 1]) / 2)"
      ]
    },
    {
      "cell_type": "markdown",
      "metadata": {
        "id": "KC8RHWVBYIpF"
      },
      "source": [
        "## 3.3.4 정밀도/재현율 트레이드오프"
      ]
    },
    {
      "cell_type": "code",
      "execution_count": null,
      "metadata": {
        "colab": {
          "base_uri": "https://localhost:8080/"
        },
        "id": "d56YIRCTYIpF",
        "outputId": "51859868-8098-4daf-aa11-04f6a76ad62e"
      },
      "outputs": [],
      "source": [
        "y_scores = sgd_clf.decision_function([some_digit])\n",
        "y_scores"
      ]
    },
    {
      "cell_type": "code",
      "execution_count": 34,
      "metadata": {
        "id": "0DVAXyVTYIpF"
      },
      "outputs": [],
      "source": [
        "threshold = 0\n",
        "y_some_digit_pred = (y_scores > threshold)"
      ]
    },
    {
      "cell_type": "code",
      "execution_count": null,
      "metadata": {
        "colab": {
          "base_uri": "https://localhost:8080/"
        },
        "id": "bp56Tz2eYIpF",
        "outputId": "831c4e49-ebbe-4f83-8d89-e34ea55d65e6"
      },
      "outputs": [],
      "source": [
        "y_some_digit_pred"
      ]
    },
    {
      "cell_type": "code",
      "execution_count": null,
      "metadata": {
        "colab": {
          "base_uri": "https://localhost:8080/"
        },
        "id": "V6w-sLQIYIpF",
        "outputId": "71eb3eaf-6ac8-4911-b5d9-168baf95c09c"
      },
      "outputs": [],
      "source": [
        "# 추가 코드 – y_scores > 0이면 predict()를 호출하는 것과 같은 결과를 냅니다\n",
        "y_scores > 0"
      ]
    },
    {
      "cell_type": "code",
      "execution_count": null,
      "metadata": {
        "colab": {
          "base_uri": "https://localhost:8080/"
        },
        "id": "RB2RUN90YIpG",
        "outputId": "b86c6b62-b6a8-4b7b-eb1a-75cff8fd5678"
      },
      "outputs": [],
      "source": [
        "threshold = 3000\n",
        "y_some_digit_pred = (y_scores > threshold)\n",
        "y_some_digit_pred"
      ]
    },
    {
      "cell_type": "code",
      "execution_count": 38,
      "metadata": {
        "id": "u3cvWYygYIpG"
      },
      "outputs": [],
      "source": [
        "# y_scores = cross_val_predict(...)"
      ]
    },
    {
      "cell_type": "code",
      "execution_count": 39,
      "metadata": {
        "id": "3LnBH-CXYIpG"
      },
      "outputs": [],
      "source": [
        "# precision_recall_curve\n"
      ]
    },
    {
      "cell_type": "code",
      "execution_count": null,
      "metadata": {
        "colab": {
          "base_uri": "https://localhost:8080/"
        },
        "id": "AA6BZFpzYIpG",
        "outputId": "52b9106e-65c5-4431-9e08-00c1786b9701"
      },
      "outputs": [],
      "source": [
        "thresholds, precisions"
      ]
    },
    {
      "cell_type": "code",
      "execution_count": null,
      "metadata": {
        "colab": {
          "base_uri": "https://localhost:8080/",
          "height": 395
        },
        "id": "IFEYpUN3YIpG",
        "outputId": "cc535472-9185-436c-9cff-8590f889b437"
      },
      "outputs": [],
      "source": [
        "plt.figure(figsize=(8, 4))  # 추가 코드\n",
        "plt.plot(thresholds, precisions[:-1], \"b--\", label=\"Precision\", linewidth=2)\n",
        "plt.plot(thresholds, recalls[:-1], \"g-\", label=\"Recall\", linewidth=2)\n",
        "plt.vlines(threshold, 0, 1.0, \"k\", \"dotted\", label=\"threshold\")\n",
        "\n",
        "# 추가 코드 – 그림 3–5를 그리고 저장합니다\n",
        "idx = (thresholds >= threshold).argmax()  # 첫 번째 index ≥ threshold\n",
        "plt.plot(thresholds[idx], precisions[idx], \"bo\")\n",
        "plt.plot(thresholds[idx], recalls[idx], \"go\")\n",
        "plt.axis([-50000, 50000, 0, 1])\n",
        "plt.grid()\n",
        "plt.xlabel(\"Threshold\")\n",
        "plt.legend(loc=\"center right\")\n",
        "save_fig(\"precision_recall_vs_threshold_plot\")\n",
        "\n",
        "plt.show()"
      ]
    },
    {
      "cell_type": "code",
      "execution_count": null,
      "metadata": {
        "colab": {
          "base_uri": "https://localhost:8080/",
          "height": 494
        },
        "id": "yT5zO6JMYIpG",
        "outputId": "ce01a80d-d045-4319-d6c3-da325c37b313"
      },
      "outputs": [],
      "source": [
        "import matplotlib.patches as patches  # 추가 코드 – 구부러진 화살표를 그리기 위해서\n",
        "\n",
        "plt.figure(figsize=(6, 5))  # 추가 코드\n",
        "\n",
        "plt.plot(recalls, precisions, linewidth=2, label=\"Precision/Recall curve\")\n",
        "\n",
        "# extra code – just beautifies and saves Figure 3–6\n",
        "plt.plot([recalls[idx], recalls[idx]], [0., precisions[idx]], \"k:\")\n",
        "plt.plot([0.0, recalls[idx]], [precisions[idx], precisions[idx]], \"k:\")\n",
        "plt.plot([recalls[idx]], [precisions[idx]], \"ko\",\n",
        "         label=\"Point at threshold 3,000\")\n",
        "plt.gca().add_patch(patches.FancyArrowPatch(\n",
        "    (0.79, 0.60), (0.61, 0.78),\n",
        "    connectionstyle=\"arc3,rad=.2\",\n",
        "    arrowstyle=\"Simple, tail_width=1.5, head_width=8, head_length=10\",\n",
        "    color=\"#444444\"))\n",
        "plt.text(0.56, 0.62, \"Higher\\nthreshold\", color=\"#333333\")\n",
        "plt.xlabel(\"Recall\")\n",
        "plt.ylabel(\"Precision\")\n",
        "plt.axis([0, 1, 0, 1])\n",
        "plt.grid()\n",
        "plt.legend(loc=\"lower left\")\n",
        "save_fig(\"precision_vs_recall_plot\")\n",
        "\n",
        "plt.show()"
      ]
    },
    {
      "cell_type": "code",
      "execution_count": null,
      "metadata": {
        "colab": {
          "base_uri": "https://localhost:8080/"
        },
        "id": "78H77RYnYIpH",
        "outputId": "a0832ba0-ea0a-4fc4-e32d-badaf523b1db"
      },
      "outputs": [],
      "source": [
        "# idx_for_90_precision = (precisions >= 0.90).argmax()\n"
      ]
    },
    {
      "cell_type": "code",
      "execution_count": 44,
      "metadata": {
        "id": "LiP-Do0cYIpH"
      },
      "outputs": [],
      "source": [
        "# y_train_pred_90 = (...)"
      ]
    },
    {
      "cell_type": "code",
      "execution_count": null,
      "metadata": {
        "colab": {
          "base_uri": "https://localhost:8080/"
        },
        "id": "ohdnSbcjYIpH",
        "outputId": "8cb7e511-c293-4689-996e-f27308d91e99"
      },
      "outputs": [],
      "source": [
        "# precision_score(...)"
      ]
    },
    {
      "cell_type": "code",
      "execution_count": null,
      "metadata": {
        "colab": {
          "base_uri": "https://localhost:8080/"
        },
        "id": "wUH5_OT4YIpH",
        "outputId": "ece809c0-d082-4a10-b98b-626629b2f0a0"
      },
      "outputs": [],
      "source": [
        "# recall_at_90_precision"
      ]
    },
    {
      "cell_type": "markdown",
      "metadata": {
        "id": "RFjLgul1YIpH"
      },
      "source": [
        "## 3.3.5 ROC 곡선"
      ]
    },
    {
      "cell_type": "code",
      "execution_count": 47,
      "metadata": {
        "id": "laXXP4SaYIpH"
      },
      "outputs": [],
      "source": [
        "# roc_curve\n"
      ]
    },
    {
      "cell_type": "code",
      "execution_count": null,
      "metadata": {
        "colab": {
          "base_uri": "https://localhost:8080/",
          "height": 494
        },
        "id": "QOzWs5WfYIpH",
        "outputId": "256f0db7-748e-45d5-fe2a-0b4804ab262e"
      },
      "outputs": [],
      "source": [
        "idx_for_threshold_at_90 = (thresholds <= threshold_for_90_precision).argmax()\n",
        "tpr_90, fpr_90 = tpr[idx_for_threshold_at_90], fpr[idx_for_threshold_at_90]\n",
        "\n",
        "plt.figure(figsize=(6, 5))  # 추가 코드\n",
        "plt.plot(fpr, tpr, linewidth=2, label=\"ROC curve\")\n",
        "plt.plot([0, 1], [0, 1], 'k:', label=\"Random classifier's ROC curve\")\n",
        "plt.plot([fpr_90], [tpr_90], \"ko\", label=\"Threshold for 90% precision\")\n",
        "\n",
        "# 추가 코드 – 그림 3–7을 그리고 저장합니다\n",
        "plt.gca().add_patch(patches.FancyArrowPatch(\n",
        "    (0.20, 0.89), (0.07, 0.70),\n",
        "    connectionstyle=\"arc3,rad=.4\",\n",
        "    arrowstyle=\"Simple, tail_width=1.5, head_width=8, head_length=10\",\n",
        "    color=\"#444444\"))\n",
        "plt.text(0.12, 0.71, \"Higher\\nthreshold\", color=\"#333333\")\n",
        "plt.xlabel('False Positive Rate (Fall-Out)')\n",
        "plt.ylabel('True Positive Rate (Recall)')\n",
        "plt.grid()\n",
        "plt.axis([0, 1, 0, 1])\n",
        "plt.legend(loc=\"lower right\", fontsize=13)\n",
        "save_fig(\"roc_curve_plot\")\n",
        "\n",
        "plt.show()"
      ]
    },
    {
      "cell_type": "code",
      "execution_count": null,
      "metadata": {
        "colab": {
          "base_uri": "https://localhost:8080/"
        },
        "id": "JvK1lkuqYIpI",
        "outputId": "22262d78-94a1-4510-ef41-c4feeb5632bd"
      },
      "outputs": [],
      "source": [
        "# roc_auc_score\n"
      ]
    },
    {
      "cell_type": "markdown",
      "metadata": {
        "id": "C1RyXHjTYIpI"
      },
      "source": [
        "**경고:** 다음 셀은 실행하는데 몇 분이 걸릴 수 있습니다."
      ]
    },
    {
      "cell_type": "code",
      "execution_count": 50,
      "metadata": {
        "id": "UZyzpKcxYIpI"
      },
      "outputs": [],
      "source": [
        "# RandomForestClassifier\n"
      ]
    },
    {
      "cell_type": "code",
      "execution_count": 51,
      "metadata": {
        "id": "_6qxbpO7YIpI"
      },
      "outputs": [],
      "source": [
        "# y_probas_forest = cross_val_predict(...)"
      ]
    },
    {
      "cell_type": "code",
      "execution_count": null,
      "metadata": {
        "colab": {
          "base_uri": "https://localhost:8080/"
        },
        "id": "Qfi3jtUlYIpI",
        "outputId": "a8579443-be29-44e9-b10d-055290152c14"
      },
      "outputs": [],
      "source": [
        "y_probas_forest[:2]"
      ]
    },
    {
      "cell_type": "markdown",
      "metadata": {
        "id": "-i1Q10lAYIpI"
      },
      "source": [
        "이는 _추정 확률(estimated probabilities)_입니다. 모델이 50%에서 60% 사이의 확률로 양성으로 분류한 이미지 중 실제로는 약 94%의 양성 이미지가 있습니다:"
      ]
    },
    {
      "cell_type": "code",
      "execution_count": null,
      "metadata": {
        "colab": {
          "base_uri": "https://localhost:8080/"
        },
        "id": "e5vAFmdAYIpI",
        "outputId": "a8a05d17-9429-4760-e965-05b4f6f91db6"
      },
      "outputs": [],
      "source": [
        "# 책에는 없음\n",
        "idx_50_to_60 = (y_probas_forest[:, 1] > 0.50) & (y_probas_forest[:, 1] < 0.60)\n",
        "print(f\"{(y_train_5[idx_50_to_60]).sum() / idx_50_to_60.sum():.1%}\")"
      ]
    },
    {
      "cell_type": "code",
      "execution_count": 54,
      "metadata": {
        "id": "1ZpX-S8CYIpJ"
      },
      "outputs": [],
      "source": [
        "y_scores_forest = y_probas_forest[:, 1]\n",
        "# precisions_forest, recalls_forest, thresholds_forest = precision_recall_curve(...)"
      ]
    },
    {
      "cell_type": "code",
      "execution_count": null,
      "metadata": {
        "colab": {
          "base_uri": "https://localhost:8080/",
          "height": 494
        },
        "id": "TO9znCyBYIpJ",
        "outputId": "c0174585-87c1-463a-8055-e9fe364a7092"
      },
      "outputs": [],
      "source": [
        "plt.figure(figsize=(6, 5))  # 추가 코드\n",
        "\n",
        "plt.plot(recalls_forest, precisions_forest, \"b-\", linewidth=2,\n",
        "         label=\"Random Forest\")\n",
        "plt.plot(recalls, precisions, \"--\", linewidth=2, label=\"SGD\")\n",
        "\n",
        "# 추가 코드 – 그림 3–8을 그리고 저장합니다\n",
        "plt.xlabel(\"Recall\")\n",
        "plt.ylabel(\"Precision\")\n",
        "plt.axis([0, 1, 0, 1])\n",
        "plt.grid()\n",
        "plt.legend(loc=\"lower left\")\n",
        "save_fig(\"pr_curve_comparison_plot\")\n",
        "\n",
        "plt.show()"
      ]
    },
    {
      "cell_type": "markdown",
      "metadata": {
        "id": "9E8kgOUMYIpJ"
      },
      "source": [
        "`cross_val_predict(forest_clf, X_train, y_train_5, cv=3)`을 호출하여 `y_train_pred_forest`을 계산할 수 있습니다.\n",
        "하지만 이미 추정 확률을 가지고 있기 때문에 기본 50% 임곗값과 비교하면 훨씬 빠르게 예측을 얻을 수 있습니다:"
      ]
    },
    {
      "cell_type": "code",
      "execution_count": null,
      "metadata": {
        "colab": {
          "base_uri": "https://localhost:8080/"
        },
        "id": "jQ-fkcxeYIpJ",
        "outputId": "52c7d65b-089c-4575-be1f-37a21a96dc64"
      },
      "outputs": [],
      "source": [
        "y_train_pred_forest = y_probas_forest[:, 1] >= 0.5  # 양성 확률 ≥ 50%\n",
        "# f1_score(...)"
      ]
    },
    {
      "cell_type": "code",
      "execution_count": null,
      "metadata": {
        "colab": {
          "base_uri": "https://localhost:8080/"
        },
        "id": "ZXf3P1QvYIpJ",
        "outputId": "19db256a-b4b2-4d9f-9b00-654de82fc5e6"
      },
      "outputs": [],
      "source": [
        "# roc_auc_score(...)"
      ]
    },
    {
      "cell_type": "code",
      "execution_count": null,
      "metadata": {
        "colab": {
          "base_uri": "https://localhost:8080/"
        },
        "id": "gCqlKe2oYIpM",
        "outputId": "8cb3123a-1abf-46c5-fa7e-5ab163c11949"
      },
      "outputs": [],
      "source": [
        "# precision_score(...)"
      ]
    },
    {
      "cell_type": "code",
      "execution_count": null,
      "metadata": {
        "colab": {
          "base_uri": "https://localhost:8080/"
        },
        "id": "ongPSA2NYIpM",
        "outputId": "afb4b822-1165-4ea8-d7fc-eb0bda3de4d9"
      },
      "outputs": [],
      "source": [
        "# recall_score(...)"
      ]
    },
    {
      "cell_type": "markdown",
      "metadata": {
        "id": "EIB5CxPhYIpM"
      },
      "source": [
        "# 3.4 다중 분류"
      ]
    },
    {
      "cell_type": "markdown",
      "metadata": {
        "id": "a3yTJWx0YIpN"
      },
      "source": [
        "SVM은 대용량 데이터셋에 잘 맞지 않기 때문에 처음 2,000개의 샘플만 사용해 훈련합니다. 그렇지 않으면 아주 오랜 시간이 걸립니다:"
      ]
    },
    {
      "cell_type": "code",
      "execution_count": null,
      "metadata": {
        "colab": {
          "base_uri": "https://localhost:8080/",
          "height": 75
        },
        "id": "PHBmO15bYIpN",
        "outputId": "90aa4b84-a326-44fe-c984-8ed68fc040cb"
      },
      "outputs": [],
      "source": [
        "# SVC\n",
        "\n",
        "# y_train_5가 아니고 y_train을 사용합니다."
      ]
    },
    {
      "cell_type": "code",
      "execution_count": null,
      "metadata": {
        "colab": {
          "base_uri": "https://localhost:8080/"
        },
        "id": "zR7LBkZHYIpN",
        "outputId": "ed94ecea-9c31-4167-c7b0-b47589712a2a"
      },
      "outputs": [],
      "source": [
        "svm_clf.predict([some_digit])"
      ]
    },
    {
      "cell_type": "code",
      "execution_count": null,
      "metadata": {
        "colab": {
          "base_uri": "https://localhost:8080/"
        },
        "id": "qeYXdpQcYIpN",
        "outputId": "81d33339-32fe-455f-e803-a8ed625f1093"
      },
      "outputs": [],
      "source": [
        "some_digit_scores = svm_clf.decision_function([some_digit])\n",
        "some_digit_scores.round(2)"
      ]
    },
    {
      "cell_type": "code",
      "execution_count": null,
      "metadata": {
        "colab": {
          "base_uri": "https://localhost:8080/"
        },
        "id": "FQebZ8ehYIpN",
        "outputId": "66889491-828e-4b0c-cca2-d9029cff3499"
      },
      "outputs": [],
      "source": [
        "class_id = some_digit_scores.argmax()\n",
        "class_id"
      ]
    },
    {
      "cell_type": "code",
      "execution_count": null,
      "metadata": {
        "colab": {
          "base_uri": "https://localhost:8080/"
        },
        "id": "1esGSzJAYIpO",
        "outputId": "cf4ff944-4b11-49c9-be80-a5e6f537ab6f"
      },
      "outputs": [],
      "source": [
        "svm_clf.classes_"
      ]
    },
    {
      "cell_type": "code",
      "execution_count": null,
      "metadata": {
        "colab": {
          "base_uri": "https://localhost:8080/",
          "height": 36
        },
        "id": "QHwfsHkrYIpO",
        "outputId": "38ab675b-0671-4eb3-db93-7734030bb3d2"
      },
      "outputs": [],
      "source": [
        "svm_clf.classes_[class_id]"
      ]
    },
    {
      "cell_type": "markdown",
      "metadata": {
        "id": "-WmisAJ2YIpO"
      },
      "source": [
        "`decision_function()`이 45개 점수를 반환하게 하려면 `decision_function_shape` 매개변수를 `\"ovo\"`로 지정합니다. 기본값은 `\"ovr\"`이지만 혼동하지 마세요. `SVC`는 항상 OvO로 훈련합니다. 이 매개변수는 45개 점수를 반환할지 여부에만 영향을 미칩니다:"
      ]
    },
    {
      "cell_type": "code",
      "execution_count": null,
      "metadata": {
        "colab": {
          "base_uri": "https://localhost:8080/"
        },
        "id": "VPKT_A5ZYIpO",
        "outputId": "1a449405-6be3-4265-9e8d-d1e7300882bc"
      },
      "outputs": [],
      "source": [
        "# 추가 코드 – 45개 OvO 점수를 얻는 방법\n",
        "svm_clf.decision_function_shape = \"ovo\"\n",
        "some_digit_scores_ovo = svm_clf.decision_function([some_digit])\n",
        "some_digit_scores_ovo.round(2)"
      ]
    },
    {
      "cell_type": "code",
      "execution_count": null,
      "metadata": {
        "colab": {
          "base_uri": "https://localhost:8080/",
          "height": 118
        },
        "id": "JKAdv_ezYIpO",
        "outputId": "20dd314a-7a1a-4b42-9838-cf5b6c925e7e"
      },
      "outputs": [],
      "source": [
        "# OneVsRestClassifier\n"
      ]
    },
    {
      "cell_type": "code",
      "execution_count": null,
      "metadata": {
        "colab": {
          "base_uri": "https://localhost:8080/"
        },
        "id": "CxVnfyYYYIpP",
        "outputId": "341d1445-078c-4e62-e8f2-58ed594c633e"
      },
      "outputs": [],
      "source": [
        "ovr_clf.predict([some_digit])"
      ]
    },
    {
      "cell_type": "code",
      "execution_count": null,
      "metadata": {
        "colab": {
          "base_uri": "https://localhost:8080/"
        },
        "id": "NMflDLlOYIpP",
        "outputId": "60c76c3f-4fe6-4311-877d-69121bf0819e"
      },
      "outputs": [],
      "source": [
        "len(ovr_clf.estimators_)"
      ]
    },
    {
      "cell_type": "code",
      "execution_count": null,
      "metadata": {
        "colab": {
          "base_uri": "https://localhost:8080/"
        },
        "id": "SmEVwTaQYIpP",
        "outputId": "dad1b894-9f34-4ce8-f4b6-2076869ea349"
      },
      "outputs": [],
      "source": [
        "sgd_clf = SGDClassifier(random_state=42)\n",
        "sgd_clf.fit(X_train, y_train)\n",
        "sgd_clf.predict([some_digit])"
      ]
    },
    {
      "cell_type": "code",
      "execution_count": null,
      "metadata": {
        "colab": {
          "base_uri": "https://localhost:8080/"
        },
        "id": "IpB483CIYIpP",
        "outputId": "b0340868-c08f-4b0a-c52a-cb5b087e538a"
      },
      "outputs": [],
      "source": [
        "sgd_clf.decision_function([some_digit]).round()"
      ]
    },
    {
      "cell_type": "markdown",
      "metadata": {
        "id": "_xv1Bft0YIpQ"
      },
      "source": [
        "**경고:** 다음 셀은 실행하는데 몇 분이 걸릴 수 있습니다."
      ]
    },
    {
      "cell_type": "code",
      "execution_count": null,
      "metadata": {
        "colab": {
          "base_uri": "https://localhost:8080/"
        },
        "id": "XMjZcLKYYIpQ",
        "outputId": "8966d2ad-788b-46c8-e0fa-510b15310ef2"
      },
      "outputs": [],
      "source": [
        "cross_val_score(sgd_clf, X_train, y_train, cv=3, scoring=\"accuracy\")"
      ]
    },
    {
      "cell_type": "code",
      "execution_count": null,
      "metadata": {
        "colab": {
          "base_uri": "https://localhost:8080/"
        },
        "id": "NKMxJ8LgYIpQ",
        "outputId": "ffd08abc-b718-4efb-a1d8-2f7b30e43a19"
      },
      "outputs": [],
      "source": [
        "# StandardScaler\n"
      ]
    },
    {
      "cell_type": "markdown",
      "metadata": {
        "id": "zLb8jxSRYIpQ"
      },
      "source": [
        "# 3.5 에러 분석"
      ]
    },
    {
      "cell_type": "markdown",
      "metadata": {
        "id": "yn7CPhhQYIpQ"
      },
      "source": [
        "**경고:** 다음 셀은 실행하는데 몇 분이 걸릴 수 있습니다."
      ]
    },
    {
      "cell_type": "code",
      "execution_count": null,
      "metadata": {
        "colab": {
          "base_uri": "https://localhost:8080/",
          "height": 454
        },
        "id": "kFHOV3hWYIpQ",
        "outputId": "bc611dba-abef-497d-b572-c873e338bc64"
      },
      "outputs": [],
      "source": [
        "# ConfusionMatrixDisplay\n"
      ]
    },
    {
      "cell_type": "code",
      "execution_count": null,
      "metadata": {
        "colab": {
          "base_uri": "https://localhost:8080/",
          "height": 454
        },
        "id": "2X_huK4kYIpR",
        "outputId": "f226bebe-8b77-423f-ad42-696c3b9f8d38"
      },
      "outputs": [],
      "source": [
        "plt.rc('font', size=10)  # 추가 코드\n",
        "ConfusionMatrixDisplay.from_predictions(y_train, y_train_pred,\n",
        "                                        normalize=\"true\", values_format=\".0%\")\n",
        "# save_fig()\n",
        "plt.show()"
      ]
    },
    {
      "cell_type": "code",
      "execution_count": null,
      "metadata": {
        "colab": {
          "base_uri": "https://localhost:8080/",
          "height": 454
        },
        "id": "tqTNRpToYIpR",
        "outputId": "06eeab03-e18b-49d0-9711-20325b1b4c5d"
      },
      "outputs": [],
      "source": [
        "sample_weight = (y_train_pred != y_train)\n",
        "plt.rc('font', size=10)  # 추가 코드\n",
        "ConfusionMatrixDisplay.from_predictions(y_train, y_train_pred,\n",
        "                                        sample_weight=sample_weight,\n",
        "                                        normalize=\"true\", values_format=\".0%\")\n",
        "# save_fig()\n",
        "plt.show()"
      ]
    },
    {
      "cell_type": "markdown",
      "metadata": {
        "id": "3qv6A-B5YIpR"
      },
      "source": [
        "책에 있는 그래프를 그립니다:"
      ]
    },
    {
      "cell_type": "code",
      "execution_count": null,
      "metadata": {
        "colab": {
          "base_uri": "https://localhost:8080/",
          "height": 411
        },
        "id": "pCR-0ehOYIpR",
        "outputId": "ee1a8042-0868-426b-deea-0f2ba57c5cd4"
      },
      "outputs": [],
      "source": [
        "# 추가 코드 – 그림 3–9을 생성하고 저장합니다\n",
        "fig, axs = plt.subplots(nrows=1, ncols=2, figsize=(9, 4))\n",
        "plt.rc('font', size=9)\n",
        "ConfusionMatrixDisplay.from_predictions(y_train, y_train_pred, ax=axs[0])\n",
        "axs[0].set_title(\"Confusion matrix\")\n",
        "plt.rc('font', size=10)\n",
        "ConfusionMatrixDisplay.from_predictions(y_train, y_train_pred, ax=axs[1],\n",
        "                                        normalize=\"true\", values_format=\".0%\")\n",
        "axs[1].set_title(\"CM normalized by row\")\n",
        "save_fig(\"confusion_matrix_plot_1\")\n",
        "plt.show()"
      ]
    },
    {
      "cell_type": "code",
      "execution_count": null,
      "metadata": {
        "colab": {
          "base_uri": "https://localhost:8080/",
          "height": 416
        },
        "id": "V9oGMhNyYIpS",
        "outputId": "f3deb60d-cfbe-403c-8ee8-b0250e097a58"
      },
      "outputs": [],
      "source": [
        "# 추가 코드 – 그림 3–10을 생성하고 저장합니다\n",
        "fig, axs = plt.subplots(nrows=1, ncols=2, figsize=(9, 4))\n",
        "plt.rc('font', size=10)\n",
        "ConfusionMatrixDisplay.from_predictions(y_train, y_train_pred, ax=axs[0],\n",
        "                                        sample_weight=sample_weight,\n",
        "                                        normalize=\"true\", values_format=\".0%\")\n",
        "axs[0].set_title(\"Errors normalized by row\")\n",
        "ConfusionMatrixDisplay.from_predictions(y_train, y_train_pred, ax=axs[1],\n",
        "                                        sample_weight=sample_weight,\n",
        "                                        normalize=\"pred\", values_format=\".0%\")\n",
        "axs[1].set_title(\"Errors normalized by column\")\n",
        "save_fig(\"confusion_matrix_plot_2\")\n",
        "plt.show()\n",
        "plt.rc('font', size=14)  # 폰트 크기를 다시 키웁니다"
      ]
    },
    {
      "cell_type": "code",
      "execution_count": 79,
      "metadata": {
        "id": "6m-bMEuiYIpU"
      },
      "outputs": [],
      "source": [
        "cl_a, cl_b = '3', '5'\n",
        "# ..."
      ]
    },
    {
      "cell_type": "code",
      "execution_count": null,
      "metadata": {
        "colab": {
          "base_uri": "https://localhost:8080/",
          "height": 494
        },
        "id": "ipZeSJ3iYIpU",
        "outputId": "c93baa78-984c-48d6-befd-cfff7c9639a4"
      },
      "outputs": [],
      "source": [
        "# 추가 코드 – 그림 3–11을 생성하고 저장합니다\n",
        "size = 5\n",
        "pad = 0.2\n",
        "plt.figure(figsize=(size, size))\n",
        "for images, (label_col, label_row) in [(X_ba, (0, 0)), (X_bb, (1, 0)),\n",
        "                                       (X_aa, (0, 1)), (X_ab, (1, 1))]:\n",
        "    for idx, image_data in enumerate(images[:size*size]):\n",
        "        x = idx % size + label_col * (size + pad)\n",
        "        y = idx // size + label_row * (size + pad)\n",
        "        plt.imshow(image_data.reshape(28, 28), cmap=\"binary\",\n",
        "                   extent=(x, x + 1, y, y + 1))\n",
        "plt.xticks([size / 2, size + pad + size / 2], [str(cl_a), str(cl_b)])\n",
        "plt.yticks([size / 2, size + pad + size / 2], [str(cl_b), str(cl_a)])\n",
        "plt.plot([size + pad / 2, size + pad / 2], [0, 2 * size + pad], \"k:\")\n",
        "plt.plot([0, 2 * size + pad], [size + pad / 2, size + pad / 2], \"k:\")\n",
        "plt.axis([0, 2 * size + pad, 0, 2 * size + pad])\n",
        "plt.xlabel(\"Predicted label\")\n",
        "plt.ylabel(\"True label\")\n",
        "save_fig(\"error_analysis_digits_plot\")\n",
        "plt.show()"
      ]
    },
    {
      "cell_type": "markdown",
      "metadata": {
        "id": "HZ5ttuYVYIpU"
      },
      "source": [
        "노트: 이와 같은 그래프를 그리는 방법이 여러 가지가 있지만 축 레이블을 올바르게 쓰기가 조금 어렵습니다:\n",
        "* [nested GridSpecs](https://matplotlib.org/stable/gallery/subplots_axes_and_figures/gridspec_nested.html)\n",
        "* 각 블록의 모든 숫자를 하나의 이미지로 합치기 (그다음 2x2 서브플롯 사용하기). 예를 들면:\n",
        "    ```python\n",
        "    X_aa[:25].reshape(5, 5, 28, 28).transpose(0, 2, 1, 3).reshape(5 * 28, 5 * 28)\n",
        "    ```\n",
        "* [subfigures](https://matplotlib.org/stable/gallery/subplots_axes_and_figures/subfigures.html) (맷플롯립 3.4 이상)"
      ]
    },
    {
      "cell_type": "markdown",
      "metadata": {
        "id": "DN1tRH7oYIpU"
      },
      "source": [
        "# 3.6 다중 레이블 분류"
      ]
    },
    {
      "cell_type": "code",
      "execution_count": null,
      "metadata": {
        "colab": {
          "base_uri": "https://localhost:8080/",
          "height": 75
        },
        "id": "aUAvljAuYIpU",
        "outputId": "7ccf3b1a-1ecb-4558-a397-18b05b915902",
        "tags": []
      },
      "outputs": [],
      "source": [
        "# KNeighborsClassifier\n"
      ]
    },
    {
      "cell_type": "code",
      "execution_count": null,
      "metadata": {
        "colab": {
          "base_uri": "https://localhost:8080/"
        },
        "id": "zIO8l2s0YIpV",
        "outputId": "b7062784-afd8-4d98-e859-386251c02061"
      },
      "outputs": [],
      "source": [
        "knn_clf.predict([some_digit])"
      ]
    },
    {
      "cell_type": "markdown",
      "metadata": {
        "id": "JPWvMUbpYIpV"
      },
      "source": [
        "**경고:** 다음 셀은 실행하는데 몇 분이 걸릴 수 있습니다:"
      ]
    },
    {
      "cell_type": "code",
      "execution_count": null,
      "metadata": {
        "colab": {
          "base_uri": "https://localhost:8080/"
        },
        "id": "PlwvqvzUYIpV",
        "outputId": "28648472-cae2-4115-d86a-d61fb2d92d5b"
      },
      "outputs": [],
      "source": [
        "y_train_knn_pred = cross_val_predict(knn_clf, X_train, y_multilabel, cv=3)\n",
        "f1_score(y_multilabel, y_train_knn_pred, average=\"macro\")"
      ]
    },
    {
      "cell_type": "code",
      "execution_count": null,
      "metadata": {
        "colab": {
          "base_uri": "https://localhost:8080/"
        },
        "id": "TrOrn3mNYIpV",
        "outputId": "ec488fc5-8241-44bf-8286-b02496c429b3"
      },
      "outputs": [],
      "source": [
        "# 추가 코드 – average=\"weighted\"로 지정했을 때 성능 향상은 무시할 수 있는 수준입니다.\n",
        "#           이 클래스는 이미 꽤 균형 잡혀 있기 때문입니다.\n",
        "f1_score(y_multilabel, y_train_knn_pred, average=\"weighted\")"
      ]
    },
    {
      "cell_type": "code",
      "execution_count": null,
      "metadata": {
        "colab": {
          "base_uri": "https://localhost:8080/",
          "height": 118
        },
        "id": "W_VGbZ4RYIpV",
        "outputId": "84e9e6e9-1644-4c01-d393-47cb9f858814"
      },
      "outputs": [],
      "source": [
        "# ClassifierChain\n"
      ]
    },
    {
      "cell_type": "code",
      "execution_count": null,
      "metadata": {
        "colab": {
          "base_uri": "https://localhost:8080/"
        },
        "id": "jLCLN17LYIpW",
        "outputId": "bfd19e6d-d984-466d-91de-a54dd77432fe"
      },
      "outputs": [],
      "source": [
        "chain_clf.predict([some_digit])"
      ]
    },
    {
      "cell_type": "markdown",
      "metadata": {
        "id": "BSvAihdwYIpW"
      },
      "source": [
        "# 3.7 다중 출력 분류"
      ]
    },
    {
      "cell_type": "code",
      "execution_count": 87,
      "metadata": {
        "id": "4pM_UuhkYIpW"
      },
      "outputs": [],
      "source": [
        "np.random.seed(42)  # 동일하게 재현되게 하려고 지정합니다\n",
        "# noise ="
      ]
    },
    {
      "cell_type": "code",
      "execution_count": null,
      "metadata": {
        "colab": {
          "base_uri": "https://localhost:8080/",
          "height": 325
        },
        "id": "HfZiSitrYIpX",
        "outputId": "a2a71b76-7640-4ab3-f365-3d71a7accb15"
      },
      "outputs": [],
      "source": [
        "# 추가 코드 – 그림 3–12을 생성하고 저장합니다\n",
        "plt.subplot(121); plot_digit(X_test_mod[0])\n",
        "plt.subplot(122); plot_digit(y_test_mod[0])\n",
        "save_fig(\"noisy_digit_example_plot\")\n",
        "plt.show()"
      ]
    },
    {
      "cell_type": "code",
      "execution_count": null,
      "metadata": {
        "colab": {
          "base_uri": "https://localhost:8080/",
          "height": 475
        },
        "id": "ZsWeuSAeYIpX",
        "outputId": "70931603-4af9-46af-f96e-5cf0c0027ee7"
      },
      "outputs": [],
      "source": [
        "# knn_clf = KNeighborsClassifier()\n",
        "\n",
        "# save_fig(\"cleaned_digit_example_plot\")  # 추가 코드 – 그림 3–13을 저장합니다\n",
        "plt.show()"
      ]
    }
  ],
  "metadata": {
    "colab": {
      "provenance": []
    },
    "kernelspec": {
      "display_name": "Python 3 (ipykernel)",
      "language": "python",
      "name": "python3"
    },
    "language_info": {
      "codemirror_mode": {
        "name": "ipython",
        "version": 3
      },
      "file_extension": ".py",
      "mimetype": "text/x-python",
      "name": "python",
      "nbconvert_exporter": "python",
      "pygments_lexer": "ipython3",
      "version": "3.10.9"
    },
    "nav_menu": {},
    "toc": {
      "navigate_menu": true,
      "number_sections": true,
      "sideBar": true,
      "threshold": 6,
      "toc_cell": false,
      "toc_section_display": "block",
      "toc_window_display": false
    }
  },
  "nbformat": 4,
  "nbformat_minor": 0
}
